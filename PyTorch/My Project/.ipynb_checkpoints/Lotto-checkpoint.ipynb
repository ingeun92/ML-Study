{
 "cells": [
  {
   "cell_type": "code",
   "execution_count": 1,
   "metadata": {},
   "outputs": [],
   "source": [
    "import torch\n",
    "import torch.nn as nn\n",
    "import torch.optim as optim\n",
    "import pandas as pd\n",
    "from sklearn.preprocessing import MinMaxScaler"
   ]
  },
  {
   "cell_type": "code",
   "execution_count": 2,
   "metadata": {},
   "outputs": [],
   "source": [
    "device = torch.device(\"cuda\" if torch.cuda.is_available() else \"cpu\")"
   ]
  },
  {
   "cell_type": "code",
   "execution_count": 15,
   "metadata": {},
   "outputs": [
    {
     "name": "stdout",
     "output_type": "stream",
     "text": [
      "      회차   1   2   3   4   5   6  보너스\n",
      "0    899   8  19  20  21  33  39   37\n",
      "1    898  18  21  28  35  37  42   17\n",
      "2    897   6   7  12  22  26  36   29\n",
      "3    896   5  12  25  26  38  45   23\n",
      "4    895  16  26  31  38  39  41   23\n",
      "..   ...  ..  ..  ..  ..  ..  ..  ...\n",
      "894    5  16  24  29  40  41  42    3\n",
      "895    4  14  27  30  31  40  42    2\n",
      "896    3  11  16  19  21  27  31   30\n",
      "897    2   9  13  21  25  32  42    2\n",
      "898    1  10  23  29  33  37  40   16\n",
      "\n",
      "[899 rows x 8 columns]\n"
     ]
    }
   ],
   "source": [
    "data = pd.read_csv(\"./.data/lotto_num.CSV\", encoding=\"euc-kr\",\n",
    "                   usecols=[0, 2, 3, 4, 5, 6, 7, 8])\n",
    "print(data)"
   ]
  },
  {
   "cell_type": "code",
   "execution_count": 22,
   "metadata": {},
   "outputs": [
    {
     "name": "stdout",
     "output_type": "stream",
     "text": [
      "0      899\n",
      "1      898\n",
      "2      897\n",
      "3      896\n",
      "4      895\n",
      "      ... \n",
      "894      5\n",
      "895      4\n",
      "896      3\n",
      "897      2\n",
      "898      1\n",
      "Name: 회차, Length: 899, dtype: int32\n",
      "      1   2   3   4   5   6  보너스\n",
      "0     8  19  20  21  33  39   37\n",
      "1    18  21  28  35  37  42   17\n",
      "2     6   7  12  22  26  36   29\n",
      "3     5  12  25  26  38  45   23\n",
      "4    16  26  31  38  39  41   23\n",
      "..   ..  ..  ..  ..  ..  ..  ...\n",
      "894  16  24  29  40  41  42    3\n",
      "895  14  27  30  31  40  42    2\n",
      "896  11  16  19  21  27  31   30\n",
      "897   9  13  21  25  32  42    2\n",
      "898  10  23  29  33  37  40   16\n",
      "\n",
      "[899 rows x 7 columns]\n"
     ]
    }
   ],
   "source": [
    "data_round = data[\"회차\"].astype(int)\n",
    "data_num = data[[\"1\", \"2\", \"3\", \"4\", \"5\", \"6\", \"보너스\"]].astype(int)\n",
    "print(data_round)\n",
    "print(data_num)"
   ]
  },
  {
   "cell_type": "code",
   "execution_count": 32,
   "metadata": {},
   "outputs": [
    {
     "name": "stdout",
     "output_type": "stream",
     "text": [
      "[[0.20588235 0.48571429 0.45945946 ... 0.68571429 0.76923077 0.81818182]\n",
      " [0.5        0.54285714 0.67567568 ... 0.8        0.88461538 0.36363636]\n",
      " [0.14705882 0.14285714 0.24324324 ... 0.48571429 0.65384615 0.63636364]\n",
      " ...\n",
      " [0.29411765 0.4        0.43243243 ... 0.51428571 0.46153846 0.65909091]\n",
      " [0.23529412 0.31428571 0.48648649 ... 0.65714286 0.88461538 0.02272727]\n",
      " [0.26470588 0.6        0.7027027  ... 0.8        0.80769231 0.34090909]]\n"
     ]
    }
   ],
   "source": [
    "scaler = MinMaxScaler()\n",
    "scaler.fit(data_num)\n",
    "data_normal = scaler.transform(data_num)\n",
    "print(data_normal)"
   ]
  },
  {
   "cell_type": "code",
   "execution_count": 33,
   "metadata": {},
   "outputs": [],
   "source": [
    "def make_label(data, size):\n",
    "    train_set = []\n",
    "    label = []\n",
    "    l = len(data)\n",
    "    for i in range(l - size):\n",
    "        train_tmp = data[i:i+size]\n",
    "        train_set.append(train_tmp)\n",
    "        label_tmp = data[i+size:i+size+1]\n",
    "        label.append(label_tmp)\n",
    "    return train_set, label"
   ]
  },
  {
   "cell_type": "code",
   "execution_count": 36,
   "metadata": {},
   "outputs": [
    {
     "name": "stdout",
     "output_type": "stream",
     "text": [
      "tensor([[[0.2059, 0.4857, 0.4595,  ..., 0.6857, 0.7692, 0.8182],\n",
      "         [0.5000, 0.5429, 0.6757,  ..., 0.8000, 0.8846, 0.3636],\n",
      "         [0.1471, 0.1429, 0.2432,  ..., 0.4857, 0.6538, 0.6364],\n",
      "         ...,\n",
      "         [0.0294, 0.1143, 0.2162,  ..., 0.4571, 0.4615, 0.0455],\n",
      "         [0.1176, 0.4286, 0.4054,  ..., 0.4000, 0.9231, 0.2500],\n",
      "         [0.1176, 0.4000, 0.4865,  ..., 0.7143, 0.8846, 0.5227]],\n",
      "\n",
      "        [[0.5000, 0.5429, 0.6757,  ..., 0.8000, 0.8846, 0.3636],\n",
      "         [0.1471, 0.1429, 0.2432,  ..., 0.4857, 0.6538, 0.6364],\n",
      "         [0.1176, 0.2857, 0.5946,  ..., 0.8286, 1.0000, 0.5000],\n",
      "         ...,\n",
      "         [0.1176, 0.4286, 0.4054,  ..., 0.4000, 0.9231, 0.2500],\n",
      "         [0.1176, 0.4000, 0.4865,  ..., 0.7143, 0.8846, 0.5227],\n",
      "         [0.5294, 0.5714, 0.7297,  ..., 0.8571, 0.9615, 0.7955]],\n",
      "\n",
      "        [[0.1471, 0.1429, 0.2432,  ..., 0.4857, 0.6538, 0.6364],\n",
      "         [0.1176, 0.2857, 0.5946,  ..., 0.8286, 1.0000, 0.5000],\n",
      "         [0.4412, 0.6857, 0.7568,  ..., 0.8571, 0.8462, 0.5000],\n",
      "         ...,\n",
      "         [0.1176, 0.4000, 0.4865,  ..., 0.7143, 0.8846, 0.5227],\n",
      "         [0.5294, 0.5714, 0.7297,  ..., 0.8571, 0.9615, 0.7955],\n",
      "         [0.0000, 0.3714, 0.4324,  ..., 0.5429, 0.8846, 0.7045]],\n",
      "\n",
      "        ...,\n",
      "\n",
      "        [[0.0294, 0.0286, 0.2162,  ..., 0.4857, 0.9615, 0.7727],\n",
      "         [0.0294, 0.2286, 0.2432,  ..., 0.3714, 0.9615, 0.0000],\n",
      "         [0.0882, 0.1429, 0.3514,  ..., 0.6857, 0.8077, 0.6591],\n",
      "         ...,\n",
      "         [0.2059, 0.4286, 0.4595,  ..., 0.7714, 0.9615, 0.0682],\n",
      "         [0.0000, 0.0857, 0.2703,  ..., 0.8571, 0.8077, 0.2273],\n",
      "         [0.2353, 0.4571, 0.5405,  ..., 0.7429, 0.6923, 0.0000]],\n",
      "\n",
      "        [[0.0294, 0.2286, 0.2432,  ..., 0.3714, 0.9615, 0.0000],\n",
      "         [0.0882, 0.1429, 0.3514,  ..., 0.6857, 0.8077, 0.6591],\n",
      "         [0.1471, 0.2286, 0.4054,  ..., 0.8000, 0.7308, 0.0455],\n",
      "         ...,\n",
      "         [0.0000, 0.0857, 0.2703,  ..., 0.8571, 0.8077, 0.2273],\n",
      "         [0.2353, 0.4571, 0.5405,  ..., 0.7429, 0.6923, 0.0000],\n",
      "         [0.0000, 0.5143, 0.6216,  ..., 0.8000, 0.9231, 0.5909]],\n",
      "\n",
      "        [[0.0882, 0.1429, 0.3514,  ..., 0.6857, 0.8077, 0.6591],\n",
      "         [0.1471, 0.2286, 0.4054,  ..., 0.8000, 0.7308, 0.0455],\n",
      "         [0.3824, 0.4286, 0.6216,  ..., 0.7714, 1.0000, 0.5909],\n",
      "         ...,\n",
      "         [0.2353, 0.4571, 0.5405,  ..., 0.7429, 0.6923, 0.0000],\n",
      "         [0.0000, 0.5143, 0.6216,  ..., 0.8000, 0.9231, 0.5909],\n",
      "         [0.0882, 0.0857, 0.1081,  ..., 0.3143, 0.2308, 0.6818]]]) \n",
      " tensor([[[0.5294, 0.5714, 0.7297,  ..., 0.8571, 0.9615, 0.7955]],\n",
      "\n",
      "        [[0.0000, 0.3714, 0.4324,  ..., 0.5429, 0.8846, 0.7045]],\n",
      "\n",
      "        [[0.0588, 0.0857, 0.2432,  ..., 0.6857, 0.7692, 0.8409]],\n",
      "\n",
      "        ...,\n",
      "\n",
      "        [[0.0000, 0.5143, 0.6216,  ..., 0.8000, 0.9231, 0.5909]],\n",
      "\n",
      "        [[0.0882, 0.0857, 0.1081,  ..., 0.3143, 0.2308, 0.6818]],\n",
      "\n",
      "        [[0.0294, 0.0571, 0.4865,  ..., 0.9714, 0.9615, 0.3409]]])\n"
     ]
    }
   ],
   "source": [
    "train_size = 24\n",
    "\n",
    "train_set = data_normal[:-train_size]\n",
    "test_set = data_normal[-train_size:]\n",
    "\n",
    "train_set, label = make_label(train_set, train_size)\n",
    "\n",
    "train_set = torch.Tensor(train_set)\n",
    "label = torch.Tensor(label)\n",
    "test_set = torch.Tensor(test_set)\n",
    "\n",
    "print(train_set, \"\\n\", label)"
   ]
  },
  {
   "cell_type": "code",
   "execution_count": 37,
   "metadata": {},
   "outputs": [],
   "source": [
    "class Lotto(nn.Module):\n",
    "    def __init__(self, input_size=7, hidden_size=64, output_size=7):\n",
    "        super(Lotto, self).__init__()\n",
    "        self.hidden_size = hidden_size\n",
    "        self.n_layer = 2\n",
    "        self.lstm = nn.LSTM(input_size, output_size, num_layers=self.n_layer)\n",
    "        self.linear = nn.Linear(self.hidden_size, output_size)\n",
    "        self.h = torch.randn(2, 1, self.hidden_size)\n",
    "        self.c = torch.randn(2, 1, self.hidden_size)\n",
    "\n",
    "    def forward(self, data):\n",
    "        lstm_out, [self.h, self.c] = self.lstm(\n",
    "            data.view(len(data), 1, 7), [self.h, self.c])\n",
    "        pred = self.linear(lstm_out.view(len(data), 7))\n",
    "        return pred[-1]"
   ]
  },
  {
   "cell_type": "code",
   "execution_count": 38,
   "metadata": {},
   "outputs": [
    {
     "name": "stdout",
     "output_type": "stream",
     "text": [
      "Lotto(\n",
      "  (lstm): LSTM(7, 7, num_layers=2)\n",
      "  (linear): Linear(in_features=64, out_features=7, bias=True)\n",
      ")\n"
     ]
    }
   ],
   "source": [
    "model = Lotto().to(device)\n",
    "criterion = nn.MSELoss()\n",
    "optimizer = optim.Adam(model.parameters(), lr=0.01)\n",
    "print(model)"
   ]
  },
  {
   "cell_type": "code",
   "execution_count": 40,
   "metadata": {},
   "outputs": [
    {
     "ename": "RuntimeError",
     "evalue": "Expected hidden[0] size (2, 1, 7), got (2, 1, 64)",
     "output_type": "error",
     "traceback": [
      "\u001b[1;31m---------------------------------------------------------------------------\u001b[0m",
      "\u001b[1;31mRuntimeError\u001b[0m                              Traceback (most recent call last)",
      "\u001b[1;32m<ipython-input-40-e1718edd44fa>\u001b[0m in \u001b[0;36m<module>\u001b[1;34m\u001b[0m\n\u001b[0;32m     14\u001b[0m         \u001b[0mmodel\u001b[0m\u001b[1;33m.\u001b[0m\u001b[0mc\u001b[0m \u001b[1;33m=\u001b[0m \u001b[0mtorch\u001b[0m\u001b[1;33m.\u001b[0m\u001b[0mrandn\u001b[0m\u001b[1;33m(\u001b[0m\u001b[1;36m2\u001b[0m\u001b[1;33m,\u001b[0m \u001b[1;36m1\u001b[0m\u001b[1;33m,\u001b[0m \u001b[0mmodel\u001b[0m\u001b[1;33m.\u001b[0m\u001b[0mhidden_size\u001b[0m\u001b[1;33m)\u001b[0m\u001b[1;33m.\u001b[0m\u001b[0mto\u001b[0m\u001b[1;33m(\u001b[0m\u001b[0mdevice\u001b[0m\u001b[1;33m)\u001b[0m\u001b[1;33m\u001b[0m\u001b[1;33m\u001b[0m\u001b[0m\n\u001b[0;32m     15\u001b[0m \u001b[1;33m\u001b[0m\u001b[0m\n\u001b[1;32m---> 16\u001b[1;33m         \u001b[0mpred\u001b[0m \u001b[1;33m=\u001b[0m \u001b[0mmodel\u001b[0m\u001b[1;33m(\u001b[0m\u001b[0mdata\u001b[0m\u001b[1;33m)\u001b[0m\u001b[1;33m\u001b[0m\u001b[1;33m\u001b[0m\u001b[0m\n\u001b[0m\u001b[0;32m     17\u001b[0m         \u001b[0mloss\u001b[0m \u001b[1;33m=\u001b[0m \u001b[0mcriterion\u001b[0m\u001b[1;33m(\u001b[0m\u001b[0mpred\u001b[0m\u001b[1;33m,\u001b[0m \u001b[0m_label\u001b[0m\u001b[1;33m)\u001b[0m\u001b[1;33m\u001b[0m\u001b[1;33m\u001b[0m\u001b[0m\n\u001b[0;32m     18\u001b[0m         \u001b[0mloss\u001b[0m\u001b[1;33m.\u001b[0m\u001b[0mbackward\u001b[0m\u001b[1;33m(\u001b[0m\u001b[1;33m)\u001b[0m\u001b[1;33m\u001b[0m\u001b[1;33m\u001b[0m\u001b[0m\n",
      "\u001b[1;32mc:\\users\\ing\\appdata\\local\\programs\\python\\python37\\lib\\site-packages\\torch\\nn\\modules\\module.py\u001b[0m in \u001b[0;36m__call__\u001b[1;34m(self, *input, **kwargs)\u001b[0m\n\u001b[0;32m    530\u001b[0m             \u001b[0mresult\u001b[0m \u001b[1;33m=\u001b[0m \u001b[0mself\u001b[0m\u001b[1;33m.\u001b[0m\u001b[0m_slow_forward\u001b[0m\u001b[1;33m(\u001b[0m\u001b[1;33m*\u001b[0m\u001b[0minput\u001b[0m\u001b[1;33m,\u001b[0m \u001b[1;33m**\u001b[0m\u001b[0mkwargs\u001b[0m\u001b[1;33m)\u001b[0m\u001b[1;33m\u001b[0m\u001b[1;33m\u001b[0m\u001b[0m\n\u001b[0;32m    531\u001b[0m         \u001b[1;32melse\u001b[0m\u001b[1;33m:\u001b[0m\u001b[1;33m\u001b[0m\u001b[1;33m\u001b[0m\u001b[0m\n\u001b[1;32m--> 532\u001b[1;33m             \u001b[0mresult\u001b[0m \u001b[1;33m=\u001b[0m \u001b[0mself\u001b[0m\u001b[1;33m.\u001b[0m\u001b[0mforward\u001b[0m\u001b[1;33m(\u001b[0m\u001b[1;33m*\u001b[0m\u001b[0minput\u001b[0m\u001b[1;33m,\u001b[0m \u001b[1;33m**\u001b[0m\u001b[0mkwargs\u001b[0m\u001b[1;33m)\u001b[0m\u001b[1;33m\u001b[0m\u001b[1;33m\u001b[0m\u001b[0m\n\u001b[0m\u001b[0;32m    533\u001b[0m         \u001b[1;32mfor\u001b[0m \u001b[0mhook\u001b[0m \u001b[1;32min\u001b[0m \u001b[0mself\u001b[0m\u001b[1;33m.\u001b[0m\u001b[0m_forward_hooks\u001b[0m\u001b[1;33m.\u001b[0m\u001b[0mvalues\u001b[0m\u001b[1;33m(\u001b[0m\u001b[1;33m)\u001b[0m\u001b[1;33m:\u001b[0m\u001b[1;33m\u001b[0m\u001b[1;33m\u001b[0m\u001b[0m\n\u001b[0;32m    534\u001b[0m             \u001b[0mhook_result\u001b[0m \u001b[1;33m=\u001b[0m \u001b[0mhook\u001b[0m\u001b[1;33m(\u001b[0m\u001b[0mself\u001b[0m\u001b[1;33m,\u001b[0m \u001b[0minput\u001b[0m\u001b[1;33m,\u001b[0m \u001b[0mresult\u001b[0m\u001b[1;33m)\u001b[0m\u001b[1;33m\u001b[0m\u001b[1;33m\u001b[0m\u001b[0m\n",
      "\u001b[1;32m<ipython-input-37-0135140ff3a2>\u001b[0m in \u001b[0;36mforward\u001b[1;34m(self, data)\u001b[0m\n\u001b[0;32m     11\u001b[0m     \u001b[1;32mdef\u001b[0m \u001b[0mforward\u001b[0m\u001b[1;33m(\u001b[0m\u001b[0mself\u001b[0m\u001b[1;33m,\u001b[0m \u001b[0mdata\u001b[0m\u001b[1;33m)\u001b[0m\u001b[1;33m:\u001b[0m\u001b[1;33m\u001b[0m\u001b[1;33m\u001b[0m\u001b[0m\n\u001b[0;32m     12\u001b[0m         lstm_out, [self.h, self.c] = self.lstm(\n\u001b[1;32m---> 13\u001b[1;33m             data.view(len(data), 1, 7), [self.h, self.c])\n\u001b[0m\u001b[0;32m     14\u001b[0m         \u001b[0mpred\u001b[0m \u001b[1;33m=\u001b[0m \u001b[0mself\u001b[0m\u001b[1;33m.\u001b[0m\u001b[0mlinear\u001b[0m\u001b[1;33m(\u001b[0m\u001b[0mlstm_out\u001b[0m\u001b[1;33m.\u001b[0m\u001b[0mview\u001b[0m\u001b[1;33m(\u001b[0m\u001b[0mlen\u001b[0m\u001b[1;33m(\u001b[0m\u001b[0mdata\u001b[0m\u001b[1;33m)\u001b[0m\u001b[1;33m,\u001b[0m \u001b[1;36m7\u001b[0m\u001b[1;33m)\u001b[0m\u001b[1;33m)\u001b[0m\u001b[1;33m\u001b[0m\u001b[1;33m\u001b[0m\u001b[0m\n\u001b[0;32m     15\u001b[0m         \u001b[1;32mreturn\u001b[0m \u001b[0mpred\u001b[0m\u001b[1;33m[\u001b[0m\u001b[1;33m-\u001b[0m\u001b[1;36m1\u001b[0m\u001b[1;33m]\u001b[0m\u001b[1;33m\u001b[0m\u001b[1;33m\u001b[0m\u001b[0m\n",
      "\u001b[1;32mc:\\users\\ing\\appdata\\local\\programs\\python\\python37\\lib\\site-packages\\torch\\nn\\modules\\module.py\u001b[0m in \u001b[0;36m__call__\u001b[1;34m(self, *input, **kwargs)\u001b[0m\n\u001b[0;32m    530\u001b[0m             \u001b[0mresult\u001b[0m \u001b[1;33m=\u001b[0m \u001b[0mself\u001b[0m\u001b[1;33m.\u001b[0m\u001b[0m_slow_forward\u001b[0m\u001b[1;33m(\u001b[0m\u001b[1;33m*\u001b[0m\u001b[0minput\u001b[0m\u001b[1;33m,\u001b[0m \u001b[1;33m**\u001b[0m\u001b[0mkwargs\u001b[0m\u001b[1;33m)\u001b[0m\u001b[1;33m\u001b[0m\u001b[1;33m\u001b[0m\u001b[0m\n\u001b[0;32m    531\u001b[0m         \u001b[1;32melse\u001b[0m\u001b[1;33m:\u001b[0m\u001b[1;33m\u001b[0m\u001b[1;33m\u001b[0m\u001b[0m\n\u001b[1;32m--> 532\u001b[1;33m             \u001b[0mresult\u001b[0m \u001b[1;33m=\u001b[0m \u001b[0mself\u001b[0m\u001b[1;33m.\u001b[0m\u001b[0mforward\u001b[0m\u001b[1;33m(\u001b[0m\u001b[1;33m*\u001b[0m\u001b[0minput\u001b[0m\u001b[1;33m,\u001b[0m \u001b[1;33m**\u001b[0m\u001b[0mkwargs\u001b[0m\u001b[1;33m)\u001b[0m\u001b[1;33m\u001b[0m\u001b[1;33m\u001b[0m\u001b[0m\n\u001b[0m\u001b[0;32m    533\u001b[0m         \u001b[1;32mfor\u001b[0m \u001b[0mhook\u001b[0m \u001b[1;32min\u001b[0m \u001b[0mself\u001b[0m\u001b[1;33m.\u001b[0m\u001b[0m_forward_hooks\u001b[0m\u001b[1;33m.\u001b[0m\u001b[0mvalues\u001b[0m\u001b[1;33m(\u001b[0m\u001b[1;33m)\u001b[0m\u001b[1;33m:\u001b[0m\u001b[1;33m\u001b[0m\u001b[1;33m\u001b[0m\u001b[0m\n\u001b[0;32m    534\u001b[0m             \u001b[0mhook_result\u001b[0m \u001b[1;33m=\u001b[0m \u001b[0mhook\u001b[0m\u001b[1;33m(\u001b[0m\u001b[0mself\u001b[0m\u001b[1;33m,\u001b[0m \u001b[0minput\u001b[0m\u001b[1;33m,\u001b[0m \u001b[0mresult\u001b[0m\u001b[1;33m)\u001b[0m\u001b[1;33m\u001b[0m\u001b[1;33m\u001b[0m\u001b[0m\n",
      "\u001b[1;32mc:\\users\\ing\\appdata\\local\\programs\\python\\python37\\lib\\site-packages\\torch\\nn\\modules\\rnn.py\u001b[0m in \u001b[0;36mforward\u001b[1;34m(self, input, hx)\u001b[0m\n\u001b[0;32m    554\u001b[0m             \u001b[0mhx\u001b[0m \u001b[1;33m=\u001b[0m \u001b[0mself\u001b[0m\u001b[1;33m.\u001b[0m\u001b[0mpermute_hidden\u001b[0m\u001b[1;33m(\u001b[0m\u001b[0mhx\u001b[0m\u001b[1;33m,\u001b[0m \u001b[0msorted_indices\u001b[0m\u001b[1;33m)\u001b[0m\u001b[1;33m\u001b[0m\u001b[1;33m\u001b[0m\u001b[0m\n\u001b[0;32m    555\u001b[0m \u001b[1;33m\u001b[0m\u001b[0m\n\u001b[1;32m--> 556\u001b[1;33m         \u001b[0mself\u001b[0m\u001b[1;33m.\u001b[0m\u001b[0mcheck_forward_args\u001b[0m\u001b[1;33m(\u001b[0m\u001b[0minput\u001b[0m\u001b[1;33m,\u001b[0m \u001b[0mhx\u001b[0m\u001b[1;33m,\u001b[0m \u001b[0mbatch_sizes\u001b[0m\u001b[1;33m)\u001b[0m\u001b[1;33m\u001b[0m\u001b[1;33m\u001b[0m\u001b[0m\n\u001b[0m\u001b[0;32m    557\u001b[0m         \u001b[1;32mif\u001b[0m \u001b[0mbatch_sizes\u001b[0m \u001b[1;32mis\u001b[0m \u001b[1;32mNone\u001b[0m\u001b[1;33m:\u001b[0m\u001b[1;33m\u001b[0m\u001b[1;33m\u001b[0m\u001b[0m\n\u001b[0;32m    558\u001b[0m             result = _VF.lstm(input, hx, self._flat_weights, self.bias, self.num_layers,\n",
      "\u001b[1;32mc:\\users\\ing\\appdata\\local\\programs\\python\\python37\\lib\\site-packages\\torch\\nn\\modules\\rnn.py\u001b[0m in \u001b[0;36mcheck_forward_args\u001b[1;34m(self, input, hidden, batch_sizes)\u001b[0m\n\u001b[0;32m    510\u001b[0m \u001b[1;33m\u001b[0m\u001b[0m\n\u001b[0;32m    511\u001b[0m         self.check_hidden_size(hidden[0], expected_hidden_size,\n\u001b[1;32m--> 512\u001b[1;33m                                'Expected hidden[0] size {}, got {}')\n\u001b[0m\u001b[0;32m    513\u001b[0m         self.check_hidden_size(hidden[1], expected_hidden_size,\n\u001b[0;32m    514\u001b[0m                                'Expected hidden[1] size {}, got {}')\n",
      "\u001b[1;32mc:\\users\\ing\\appdata\\local\\programs\\python\\python37\\lib\\site-packages\\torch\\nn\\modules\\rnn.py\u001b[0m in \u001b[0;36mcheck_hidden_size\u001b[1;34m(self, hx, expected_hidden_size, msg)\u001b[0m\n\u001b[0;32m    174\u001b[0m         \u001b[1;31m# type: (Tensor, Tuple[int, int, int], str) -> None\u001b[0m\u001b[1;33m\u001b[0m\u001b[1;33m\u001b[0m\u001b[1;33m\u001b[0m\u001b[0m\n\u001b[0;32m    175\u001b[0m         \u001b[1;32mif\u001b[0m \u001b[0mhx\u001b[0m\u001b[1;33m.\u001b[0m\u001b[0msize\u001b[0m\u001b[1;33m(\u001b[0m\u001b[1;33m)\u001b[0m \u001b[1;33m!=\u001b[0m \u001b[0mexpected_hidden_size\u001b[0m\u001b[1;33m:\u001b[0m\u001b[1;33m\u001b[0m\u001b[1;33m\u001b[0m\u001b[0m\n\u001b[1;32m--> 176\u001b[1;33m             \u001b[1;32mraise\u001b[0m \u001b[0mRuntimeError\u001b[0m\u001b[1;33m(\u001b[0m\u001b[0mmsg\u001b[0m\u001b[1;33m.\u001b[0m\u001b[0mformat\u001b[0m\u001b[1;33m(\u001b[0m\u001b[0mexpected_hidden_size\u001b[0m\u001b[1;33m,\u001b[0m \u001b[0mtuple\u001b[0m\u001b[1;33m(\u001b[0m\u001b[0mhx\u001b[0m\u001b[1;33m.\u001b[0m\u001b[0msize\u001b[0m\u001b[1;33m(\u001b[0m\u001b[1;33m)\u001b[0m\u001b[1;33m)\u001b[0m\u001b[1;33m)\u001b[0m\u001b[1;33m)\u001b[0m\u001b[1;33m\u001b[0m\u001b[1;33m\u001b[0m\u001b[0m\n\u001b[0m\u001b[0;32m    177\u001b[0m \u001b[1;33m\u001b[0m\u001b[0m\n\u001b[0;32m    178\u001b[0m     \u001b[1;32mdef\u001b[0m \u001b[0mcheck_forward_args\u001b[0m\u001b[1;33m(\u001b[0m\u001b[0mself\u001b[0m\u001b[1;33m,\u001b[0m \u001b[0minput\u001b[0m\u001b[1;33m,\u001b[0m \u001b[0mhidden\u001b[0m\u001b[1;33m,\u001b[0m \u001b[0mbatch_sizes\u001b[0m\u001b[1;33m)\u001b[0m\u001b[1;33m:\u001b[0m\u001b[1;33m\u001b[0m\u001b[1;33m\u001b[0m\u001b[0m\n",
      "\u001b[1;31mRuntimeError\u001b[0m: Expected hidden[0] size (2, 1, 7), got (2, 1, 64)"
     ]
    }
   ],
   "source": [
    "model.train()\n",
    "\n",
    "epochs = 100\n",
    "for epoch in range(epochs):\n",
    "    for i, data in enumerate(train_set):\n",
    "        _label = label[i]\n",
    "        \n",
    "        data = data.to(device)\n",
    "        _label = _label.to(device)\n",
    "        \n",
    "        optimizer.zero_grad()\n",
    "        model.h = torch.randn(2, 1, model.hidden_size).to(device)\n",
    "        model.c = torch.randn(2, 1, model.hidden_size).to(device)\n",
    "        \n",
    "        pred = model(data)\n",
    "        loss = criterion(pred, _label)\n",
    "        loss.backward()\n",
    "        optimizer.step()\n",
    "        \n",
    "        if (epoch + 1) % 20 == 0:\n",
    "            print(\"Epoch: {}/{}, loss: {}\" .format(epoch, epochs, loss.item()))"
   ]
  }
 ],
 "metadata": {
  "kernelspec": {
   "display_name": "Python 3",
   "language": "python",
   "name": "python3"
  },
  "language_info": {
   "codemirror_mode": {
    "name": "ipython",
    "version": 3
   },
   "file_extension": ".py",
   "mimetype": "text/x-python",
   "name": "python",
   "nbconvert_exporter": "python",
   "pygments_lexer": "ipython3",
   "version": "3.7.6"
  },
  "varInspector": {
   "cols": {
    "lenName": 16,
    "lenType": 16,
    "lenVar": 40
   },
   "kernels_config": {
    "python": {
     "delete_cmd_postfix": "",
     "delete_cmd_prefix": "del ",
     "library": "var_list.py",
     "varRefreshCmd": "print(var_dic_list())"
    },
    "r": {
     "delete_cmd_postfix": ") ",
     "delete_cmd_prefix": "rm(",
     "library": "var_list.r",
     "varRefreshCmd": "cat(var_dic_list()) "
    }
   },
   "types_to_exclude": [
    "module",
    "function",
    "builtin_function_or_method",
    "instance",
    "_Feature"
   ],
   "window_display": false
  }
 },
 "nbformat": 4,
 "nbformat_minor": 4
}

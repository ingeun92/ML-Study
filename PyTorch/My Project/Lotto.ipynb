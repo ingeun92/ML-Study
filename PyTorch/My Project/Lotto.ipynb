{
 "cells": [
  {
   "cell_type": "code",
   "execution_count": 210,
   "metadata": {},
   "outputs": [],
   "source": [
    "import torch\n",
    "import torch.nn as nn\n",
    "import torch.optim as optim\n",
    "import numpy as np\n",
    "import pandas as pd\n",
    "from sklearn.preprocessing import MinMaxScaler"
   ]
  },
  {
   "cell_type": "code",
   "execution_count": 211,
   "metadata": {},
   "outputs": [],
   "source": [
    "device = torch.device(\"cuda\" if torch.cuda.is_available() else \"cpu\")"
   ]
  },
  {
   "cell_type": "code",
   "execution_count": 212,
   "metadata": {},
   "outputs": [
    {
     "name": "stdout",
     "output_type": "stream",
     "text": [
      "      회차   1   2   3   4   5   6  보너스\n",
      "0    899   8  19  20  21  33  39   37\n",
      "1    898  18  21  28  35  37  42   17\n",
      "2    897   6   7  12  22  26  36   29\n",
      "3    896   5  12  25  26  38  45   23\n",
      "4    895  16  26  31  38  39  41   23\n",
      "..   ...  ..  ..  ..  ..  ..  ..  ...\n",
      "894    5  16  24  29  40  41  42    3\n",
      "895    4  14  27  30  31  40  42    2\n",
      "896    3  11  16  19  21  27  31   30\n",
      "897    2   9  13  21  25  32  42    2\n",
      "898    1  10  23  29  33  37  40   16\n",
      "\n",
      "[899 rows x 8 columns]\n"
     ]
    }
   ],
   "source": [
    "data = pd.read_csv(\"./.data/lotto_num.CSV\", encoding=\"euc-kr\",\n",
    "                   usecols=[0, 2, 3, 4, 5, 6, 7, 8])\n",
    "print(data)"
   ]
  },
  {
   "cell_type": "code",
   "execution_count": 226,
   "metadata": {},
   "outputs": [
    {
     "name": "stdout",
     "output_type": "stream",
     "text": [
      "0      899\n",
      "1      898\n",
      "2      897\n",
      "3      896\n",
      "4      895\n",
      "      ... \n",
      "894      5\n",
      "895      4\n",
      "896      3\n",
      "897      2\n",
      "898      1\n",
      "Name: 회차, Length: 899, dtype: int32\n",
      "        1     2     3     4     5     6\n",
      "0     8.0  19.0  20.0  21.0  33.0  39.0\n",
      "1    18.0  21.0  28.0  35.0  37.0  42.0\n",
      "2     6.0   7.0  12.0  22.0  26.0  36.0\n",
      "3     5.0  12.0  25.0  26.0  38.0  45.0\n",
      "4    16.0  26.0  31.0  38.0  39.0  41.0\n",
      "..    ...   ...   ...   ...   ...   ...\n",
      "894  16.0  24.0  29.0  40.0  41.0  42.0\n",
      "895  14.0  27.0  30.0  31.0  40.0  42.0\n",
      "896  11.0  16.0  19.0  21.0  27.0  31.0\n",
      "897   9.0  13.0  21.0  25.0  32.0  42.0\n",
      "898  10.0  23.0  29.0  33.0  37.0  40.0\n",
      "\n",
      "[899 rows x 6 columns]\n"
     ]
    }
   ],
   "source": [
    "data_round = data[\"회차\"].astype(int)\n",
    "data_num = data[[\"1\", \"2\", \"3\", \"4\", \"5\", \"6\"]].astype(float)\n",
    "print(data_round)\n",
    "print(data_num)"
   ]
  },
  {
   "cell_type": "code",
   "execution_count": 227,
   "metadata": {},
   "outputs": [
    {
     "name": "stdout",
     "output_type": "stream",
     "text": [
      "[[0.20588235 0.48571429 0.45945946 0.42105263 0.68571429 0.76923077]\n",
      " [0.5        0.54285714 0.67567568 0.78947368 0.8        0.88461538]\n",
      " [0.14705882 0.14285714 0.24324324 0.44736842 0.48571429 0.65384615]\n",
      " ...\n",
      " [0.29411765 0.4        0.43243243 0.42105263 0.51428571 0.46153846]\n",
      " [0.23529412 0.31428571 0.48648649 0.52631579 0.65714286 0.88461538]\n",
      " [0.26470588 0.6        0.7027027  0.73684211 0.8        0.80769231]]\n",
      "[[ 8. 19. 20. 21. 33. 39.]\n",
      " [18. 21. 28. 35. 37. 42.]\n",
      " [ 6.  7. 12. 22. 26. 36.]\n",
      " ...\n",
      " [11. 16. 19. 21. 27. 31.]\n",
      " [ 9. 13. 21. 25. 32. 42.]\n",
      " [10. 23. 29. 33. 37. 40.]]\n"
     ]
    }
   ],
   "source": [
    "scaler = MinMaxScaler()\n",
    "scaler.fit(data_num)\n",
    "data_normal = scaler.transform(data_num)\n",
    "print(data_normal)\n",
    "\n",
    "data_num = data_num.to_numpy()\n",
    "print(data_num)"
   ]
  },
  {
   "cell_type": "code",
   "execution_count": 228,
   "metadata": {},
   "outputs": [],
   "source": [
    "def make_label(data, size):\n",
    "    train_set = []\n",
    "    label = []\n",
    "    l = len(data)\n",
    "    print(l)\n",
    "    for i in range(l - size):\n",
    "        train_tmp = data[i:i+size]\n",
    "        train_set.append(train_tmp)\n",
    "        label_tmp = data[i+size]\n",
    "        label.append(label_tmp)\n",
    "    return train_set, label"
   ]
  },
  {
   "cell_type": "code",
   "execution_count": 293,
   "metadata": {},
   "outputs": [
    {
     "name": "stdout",
     "output_type": "stream",
     "text": [
      "(899, 6)\n",
      "599\n",
      "torch.Size([299, 300, 6])\n",
      "torch.Size([1, 300, 6])\n",
      "torch.Size([299, 6])\n",
      "tensor([[[ 8., 19., 20., 21., 33., 39.],\n",
      "         [18., 21., 28., 35., 37., 42.],\n",
      "         [ 6.,  7., 12., 22., 26., 36.],\n",
      "         ...,\n",
      "         [13., 14., 22., 27., 30., 38.],\n",
      "         [ 2., 16., 19., 31., 34., 35.],\n",
      "         [ 5., 11., 14., 27., 29., 36.]],\n",
      "\n",
      "        [[18., 21., 28., 35., 37., 42.],\n",
      "         [ 6.,  7., 12., 22., 26., 36.],\n",
      "         [ 5., 12., 25., 26., 38., 45.],\n",
      "         ...,\n",
      "         [ 2., 16., 19., 31., 34., 35.],\n",
      "         [ 5., 11., 14., 27., 29., 36.],\n",
      "         [ 5., 12., 17., 29., 34., 35.]],\n",
      "\n",
      "        [[ 6.,  7., 12., 22., 26., 36.],\n",
      "         [ 5., 12., 25., 26., 38., 45.],\n",
      "         [16., 26., 31., 38., 39., 41.],\n",
      "         ...,\n",
      "         [ 5., 11., 14., 27., 29., 36.],\n",
      "         [ 5., 12., 17., 29., 34., 35.],\n",
      "         [ 4., 12., 24., 33., 38., 45.]],\n",
      "\n",
      "        ...,\n",
      "\n",
      "        [[ 2., 19., 25., 26., 27., 43.],\n",
      "         [13., 14., 22., 27., 30., 38.],\n",
      "         [ 2., 16., 19., 31., 34., 35.],\n",
      "         ...,\n",
      "         [ 4., 18., 23., 30., 34., 41.],\n",
      "         [ 7.,  8., 18., 21., 23., 39.],\n",
      "         [ 4., 10., 16., 26., 33., 41.]],\n",
      "\n",
      "        [[13., 14., 22., 27., 30., 38.],\n",
      "         [ 2., 16., 19., 31., 34., 35.],\n",
      "         [ 5., 11., 14., 27., 29., 36.],\n",
      "         ...,\n",
      "         [ 7.,  8., 18., 21., 23., 39.],\n",
      "         [ 4., 10., 16., 26., 33., 41.],\n",
      "         [ 2., 14., 17., 30., 38., 45.]],\n",
      "\n",
      "        [[ 2., 16., 19., 31., 34., 35.],\n",
      "         [ 5., 11., 14., 27., 29., 36.],\n",
      "         [ 5., 12., 17., 29., 34., 35.],\n",
      "         ...,\n",
      "         [ 4., 10., 16., 26., 33., 41.],\n",
      "         [ 2., 14., 17., 30., 38., 45.],\n",
      "         [13., 19., 20., 32., 38., 42.]]])\n"
     ]
    }
   ],
   "source": [
    "train_size = 300\n",
    "\n",
    "print(data_num.shape)\n",
    "train_set = data_normal[:-train_size]\n",
    "test_set = data_normal[-train_size:]\n",
    "\n",
    "# train_set = data_num[:-train_size]\n",
    "# test_set = data_num[-train_size:]\n",
    "\n",
    "train_set, label = make_label(train_set, train_size)\n",
    "\n",
    "train_set = torch.Tensor(train_set)\n",
    "label = torch.Tensor(label)\n",
    "test_set = torch.Tensor(test_set)\n",
    "test_set = test_set.view(1, train_size, -1)\n",
    "\n",
    "print(train_set.shape)\n",
    "print(test_set.shape)\n",
    "print(label.shape)\n",
    "print(train_set)"
   ]
  },
  {
   "cell_type": "code",
   "execution_count": 294,
   "metadata": {},
   "outputs": [],
   "source": [
    "class Lotto(nn.Module):\n",
    "    def __init__(self, input_size=6, hidden_size=256, output_size=6):\n",
    "        super(Lotto, self).__init__()\n",
    "        self.hidden_size = hidden_size\n",
    "        self.n_layer = 2\n",
    "        self.lstm = nn.LSTM(input_size, hidden_size, num_layers=self.n_layer)\n",
    "        self.linear = nn.Linear(self.hidden_size, output_size)\n",
    "        self.h = torch.randn(self.n_layer, 1, self.hidden_size)\n",
    "        self.c = torch.randn(self.n_layer, 1, self.hidden_size)\n",
    "\n",
    "    def forward(self, data):\n",
    "        lstm_out, [self.h, self.c] = self.lstm(\n",
    "            data.view(len(data), 1, -1), [self.h, self.c])\n",
    "        pred = self.linear(lstm_out.view(len(data), -1))\n",
    "        return pred[-1]"
   ]
  },
  {
   "cell_type": "code",
   "execution_count": 309,
   "metadata": {},
   "outputs": [
    {
     "name": "stdout",
     "output_type": "stream",
     "text": [
      "Lotto(\n",
      "  (lstm): LSTM(6, 256, num_layers=2)\n",
      "  (linear): Linear(in_features=256, out_features=6, bias=True)\n",
      ")\n"
     ]
    }
   ],
   "source": [
    "model = Lotto().to(device)\n",
    "criterion = nn.MSELoss()\n",
    "optimizer = optim.Adam(model.parameters(), lr=0.0001)\n",
    "print(model)"
   ]
  },
  {
   "cell_type": "code",
   "execution_count": 310,
   "metadata": {},
   "outputs": [
    {
     "name": "stdout",
     "output_type": "stream",
     "text": [
      "Epoch: 1/100, loss: 431.26203125\n",
      "Epoch: 2/100, loss: 218.23462239583333\n",
      "Epoch: 3/100, loss: 123.59352864583333\n",
      "Epoch: 4/100, loss: 76.26289713541667\n",
      "Epoch: 5/100, loss: 54.10892252604167\n",
      "Epoch: 6/100, loss: 44.6430859375\n",
      "Epoch: 7/100, loss: 41.020703125\n",
      "Epoch: 8/100, loss: 39.799423828125\n",
      "Epoch: 9/100, loss: 39.43990885416667\n",
      "Epoch: 10/100, loss: 39.34695638020833\n",
      "Epoch: 11/100, loss: 39.325442708333334\n",
      "Epoch: 12/100, loss: 39.321207682291664\n",
      "Epoch: 13/100, loss: 39.321123046875\n",
      "Epoch: 14/100, loss: 39.32193359375\n",
      "Epoch: 15/100, loss: 39.32289388020833\n",
      "Epoch: 16/100, loss: 39.32375\n",
      "Epoch: 17/100, loss: 39.324453125\n",
      "Epoch: 18/100, loss: 39.325016276041666\n",
      "Epoch: 19/100, loss: 39.325442708333334\n",
      "Epoch: 20/100, loss: 39.325771484375\n",
      "Epoch: 21/100, loss: 39.32603515625\n",
      "Epoch: 22/100, loss: 39.326243489583334\n",
      "Epoch: 23/100, loss: 39.326360677083336\n",
      "Epoch: 24/100, loss: 39.326481119791666\n",
      "Epoch: 25/100, loss: 39.32655924479167\n",
      "Epoch: 26/100, loss: 39.326617838541665\n",
      "Epoch: 27/100, loss: 39.32668294270833\n",
      "Epoch: 28/100, loss: 39.32671223958334\n",
      "Epoch: 29/100, loss: 39.32673502604167\n",
      "Epoch: 30/100, loss: 39.3267578125\n",
      "Epoch: 31/100, loss: 39.32677734375\n",
      "Epoch: 32/100, loss: 39.326796875\n",
      "Epoch: 33/100, loss: 39.32677408854167\n",
      "Epoch: 34/100, loss: 39.326796875\n",
      "Epoch: 35/100, loss: 39.32677408854167\n",
      "Epoch: 36/100, loss: 39.32677408854167\n",
      "Epoch: 37/100, loss: 39.326767578125\n",
      "Epoch: 38/100, loss: 39.32676432291667\n",
      "Epoch: 39/100, loss: 39.326731770833334\n",
      "Epoch: 40/100, loss: 39.32671875\n",
      "Epoch: 41/100, loss: 39.32671223958334\n",
      "Epoch: 42/100, loss: 39.3266796875\n",
      "Epoch: 43/100, loss: 39.326647135416664\n",
      "Epoch: 44/100, loss: 39.32662760416667\n",
      "Epoch: 45/100, loss: 39.32657552083333\n",
      "Epoch: 46/100, loss: 39.326533203125\n",
      "Epoch: 47/100, loss: 39.32646809895834\n",
      "Epoch: 48/100, loss: 39.326389973958335\n",
      "Epoch: 49/100, loss: 39.32630859375\n",
      "Epoch: 50/100, loss: 39.326077473958335\n",
      "Epoch: 51/100, loss: 39.325927734375\n",
      "Epoch: 52/100, loss: 39.32518880208333\n",
      "Epoch: 53/100, loss: 39.3251953125\n",
      "Epoch: 54/100, loss: 39.322008463541664\n",
      "Epoch: 55/100, loss: 39.32418294270833\n",
      "Epoch: 56/100, loss: 39.310537109375\n",
      "Epoch: 57/100, loss: 39.31809895833333\n",
      "Epoch: 58/100, loss: 39.277408854166666\n",
      "Epoch: 59/100, loss: 39.24252278645833\n",
      "Epoch: 60/100, loss: 39.141031901041664\n",
      "Epoch: 61/100, loss: 38.95466796875\n",
      "Epoch: 62/100, loss: 38.83260416666667\n",
      "Epoch: 63/100, loss: 38.54172526041667\n",
      "Epoch: 64/100, loss: 38.374378255208335\n",
      "Epoch: 65/100, loss: 38.360302734375\n",
      "Epoch: 66/100, loss: 38.3244140625\n",
      "Epoch: 67/100, loss: 38.11319661458333\n",
      "Epoch: 68/100, loss: 38.03775716145833\n",
      "Epoch: 69/100, loss: 37.943333333333335\n",
      "Epoch: 70/100, loss: 37.911458333333336\n",
      "Epoch: 71/100, loss: 37.84498046875\n",
      "Epoch: 72/100, loss: 37.805530598958335\n",
      "Epoch: 73/100, loss: 37.70025390625\n",
      "Epoch: 74/100, loss: 37.625595703125\n",
      "Epoch: 75/100, loss: 37.544300130208335\n",
      "Epoch: 76/100, loss: 37.453763020833335\n",
      "Epoch: 77/100, loss: 37.33335286458333\n",
      "Epoch: 78/100, loss: 37.188544921875\n",
      "Epoch: 79/100, loss: 37.046832682291665\n",
      "Epoch: 80/100, loss: 36.91116536458333\n",
      "Epoch: 81/100, loss: 36.771253255208336\n",
      "Epoch: 82/100, loss: 36.63411783854167\n",
      "Epoch: 83/100, loss: 36.525712890625\n",
      "Epoch: 84/100, loss: 36.44686197916667\n",
      "Epoch: 85/100, loss: 36.20644205729167\n",
      "Epoch: 86/100, loss: 36.079228515625\n",
      "Epoch: 87/100, loss: 36.070485026041666\n",
      "Epoch: 88/100, loss: 36.10867838541667\n",
      "Epoch: 89/100, loss: 36.0368359375\n",
      "Epoch: 90/100, loss: 35.853815104166664\n",
      "Epoch: 91/100, loss: 35.845263671875\n",
      "Epoch: 92/100, loss: 35.991689453125\n",
      "Epoch: 93/100, loss: 35.73819010416667\n",
      "Epoch: 94/100, loss: 35.60654947916667\n",
      "Epoch: 95/100, loss: 35.82720052083334\n",
      "Epoch: 96/100, loss: 35.196689453125\n",
      "Epoch: 97/100, loss: 35.126474609375\n",
      "Epoch: 98/100, loss: 35.03734700520833\n",
      "Epoch: 99/100, loss: 34.87361002604167\n",
      "Epoch: 100/100, loss: 34.98515950520834\n"
     ]
    }
   ],
   "source": [
    "model.train()\n",
    "\n",
    "epochs = 100\n",
    "for epoch in range(epochs):\n",
    "    loss_sum = 0.\n",
    "    for i, data in enumerate(train_set):\n",
    "        _label = label[i]\n",
    "\n",
    "        data = data.to(device)\n",
    "        _label = _label.to(device)\n",
    "\n",
    "        optimizer.zero_grad()\n",
    "        model.h = torch.randn(model.n_layer, 1, model.hidden_size).to(device)\n",
    "        model.c = torch.randn(model.n_layer, 1, model.hidden_size).to(device)\n",
    "\n",
    "        pred = model(data)\n",
    "        loss = criterion(pred, _label)\n",
    "        loss_sum += loss\n",
    "        loss.backward()\n",
    "        optimizer.step()\n",
    "\n",
    "    print(\"Epoch: {}/{}, loss: {}\" .format(epoch +\n",
    "                                           1, epochs, loss_sum.item()/len(data)))"
   ]
  },
  {
   "cell_type": "code",
   "execution_count": 314,
   "metadata": {
    "scrolled": true
   },
   "outputs": [
    {
     "name": "stdout",
     "output_type": "stream",
     "text": [
      "tensor([ 5.4006, 10.3993, 16.2590, 21.6882, 27.7450, 34.2735])\n",
      "[ 5. 10. 16. 22. 28. 34.]\n"
     ]
    }
   ],
   "source": [
    "model.eval()\n",
    "\n",
    "test_set = test_set.to(device)\n",
    "train_set = train_set.to(device)\n",
    "\n",
    "with torch.no_grad():\n",
    "    result = model(test_set[0])\n",
    "\n",
    "result = result.to(\"cpu\")\n",
    "print(result)\n",
    "\n",
    "# actual_result = result.detach().numpy()\n",
    "actual_result = scaler.inverse_transform([actual_result])\n",
    "\n",
    "actual_num = np.around(actual_result)\n",
    "actual_num = np.sort(actual_num)\n",
    "print(actual_num)"
   ]
  }
 ],
 "metadata": {
  "kernelspec": {
   "display_name": "Python 3",
   "language": "python",
   "name": "python3"
  },
  "language_info": {
   "codemirror_mode": {
    "name": "ipython",
    "version": 3
   },
   "file_extension": ".py",
   "mimetype": "text/x-python",
   "name": "python",
   "nbconvert_exporter": "python",
   "pygments_lexer": "ipython3",
   "version": "3.7.6"
  },
  "varInspector": {
   "cols": {
    "lenName": 16,
    "lenType": 16,
    "lenVar": 40
   },
   "kernels_config": {
    "python": {
     "delete_cmd_postfix": "",
     "delete_cmd_prefix": "del ",
     "library": "var_list.py",
     "varRefreshCmd": "print(var_dic_list())"
    },
    "r": {
     "delete_cmd_postfix": ") ",
     "delete_cmd_prefix": "rm(",
     "library": "var_list.r",
     "varRefreshCmd": "cat(var_dic_list()) "
    }
   },
   "types_to_exclude": [
    "module",
    "function",
    "builtin_function_or_method",
    "instance",
    "_Feature"
   ],
   "window_display": false
  }
 },
 "nbformat": 4,
 "nbformat_minor": 4
}

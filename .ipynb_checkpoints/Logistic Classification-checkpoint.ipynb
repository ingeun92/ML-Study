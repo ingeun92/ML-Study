{
 "cells": [
  {
   "cell_type": "code",
   "execution_count": 3,
   "metadata": {},
   "outputs": [],
   "source": [
    "import tensorflow as tf"
   ]
  },
  {
   "cell_type": "code",
   "execution_count": 4,
   "metadata": {},
   "outputs": [],
   "source": [
    "x_data = [[1, 2], [2, 3], [3, 1], [4, 3], [5, 3], [6, 2]]\n",
    "y_data = [[0], [0], [0], [1], [1], [1]]"
   ]
  },
  {
   "cell_type": "code",
   "execution_count": 5,
   "metadata": {},
   "outputs": [],
   "source": [
    "x = tf.placeholder(tf.float32, shape=[None, 2])\n",
    "y = tf.placeholder(tf.float32, shape=[None, 1])\n",
    "w = tf.Variable(tf.random_normal([2, 1]), name='weight')\n",
    "b = tf.Variable(tf.random_normal([1]), name='bias')"
   ]
  },
  {
   "cell_type": "code",
   "execution_count": 6,
   "metadata": {},
   "outputs": [],
   "source": [
    "hypothesis = tf.sigmoid(tf.matmul(x, w) + b)"
   ]
  },
  {
   "cell_type": "code",
   "execution_count": 22,
   "metadata": {},
   "outputs": [],
   "source": [
    "cost = -tf.reduce_mean(y * tf.log(hypothesis) + (1 - y)\n",
    "                       * tf.log(1 - hypothesis))\n",
    "\n",
    "train = tf.train.GradientDescentOptimizer(learning_rate = 0.03).minimize(cost)"
   ]
  },
  {
   "cell_type": "code",
   "execution_count": 23,
   "metadata": {},
   "outputs": [],
   "source": [
    "predicted = tf.cast(hypothesis > 0.5, dtype=tf.float32)\n",
    "accuracy = tf.reduce_mean(tf.cast(tf.equal(predicted, y), dtype=tf.float32))"
   ]
  },
  {
   "cell_type": "code",
   "execution_count": 24,
   "metadata": {},
   "outputs": [
    {
     "name": "stdout",
     "output_type": "stream",
     "text": [
      "0 3.0065825\n",
      "200 0.5051953\n",
      "400 0.33142626\n",
      "600 0.29294935\n",
      "800 0.26877478\n",
      "1000 0.24904396\n",
      "1200 0.23201065\n",
      "1400 0.21706986\n",
      "1600 0.20386346\n",
      "1800 0.19212216\n",
      "2000 0.1816284\n",
      "2200 0.17220336\n",
      "2400 0.1636988\n",
      "2600 0.15599096\n",
      "2800 0.14897631\n",
      "3000 0.14256789\n",
      "3200 0.13669215\n",
      "3400 0.13128637\n",
      "3600 0.12629731\n",
      "3800 0.121678986\n",
      "4000 0.117392026\n",
      "4200 0.11340231\n",
      "4400 0.10968003\n",
      "4600 0.106199324\n",
      "4800 0.10293736\n",
      "5000 0.099874206\n",
      "5200 0.096992254\n",
      "5400 0.094275795\n",
      "5600 0.091710865\n",
      "5800 0.089285254\n",
      "6000 0.0869877\n",
      "6200 0.08480835\n",
      "6400 0.0827382\n",
      "6600 0.08076922\n",
      "6800 0.07889404\n",
      "7000 0.07710621\n",
      "7200 0.0753996\n",
      "7400 0.073768735\n",
      "7600 0.07220861\n",
      "7800 0.07071477\n",
      "8000 0.06928299\n",
      "8200 0.0679095\n",
      "8400 0.06659064\n",
      "8600 0.0653233\n",
      "8800 0.064104415\n",
      "9000 0.06293125\n",
      "9200 0.06180125\n",
      "9400 0.060712073\n",
      "9600 0.059661534\n",
      "9800 0.05864747\n",
      "10000 0.057668075\n",
      "\n",
      "Hypothesis:  [[0.00368273]\n",
      " [0.08189476]\n",
      " [0.11558649]\n",
      " [0.8891897 ]\n",
      " [0.9870315 ]\n",
      " [0.99648786]] \n",
      "Correct (Y):  [[0.]\n",
      " [0.]\n",
      " [0.]\n",
      " [1.]\n",
      " [1.]\n",
      " [1.]] \n",
      "Accuracy:  1.0\n"
     ]
    }
   ],
   "source": [
    "with tf.Session() as sess:\n",
    "    sess.run(tf.global_variables_initializer())\n",
    "\n",
    "    for step in range(10001):\n",
    "        cost_val, _ = sess.run([cost, train], feed_dict={x: x_data, y: y_data})\n",
    "        if step % 200 == 0:\n",
    "            print(step, cost_val)\n",
    "\n",
    "    h, c, a = sess.run([hypothesis, predicted, accuracy], feed_dict={\n",
    "        x: x_data, y: y_data})\n",
    "    print(\"\\nHypothesis: \", h, \"\\nCorrect (Y): \", c, \"\\nAccuracy: \", a)"
   ]
  }
 ],
 "metadata": {
  "kernelspec": {
   "display_name": "Python 3",
   "language": "python",
   "name": "python3"
  },
  "language_info": {
   "codemirror_mode": {
    "name": "ipython",
    "version": 3
   },
   "file_extension": ".py",
   "mimetype": "text/x-python",
   "name": "python",
   "nbconvert_exporter": "python",
   "pygments_lexer": "ipython3",
   "version": "3.7.6"
  },
  "varInspector": {
   "cols": {
    "lenName": 16,
    "lenType": 16,
    "lenVar": 40
   },
   "kernels_config": {
    "python": {
     "delete_cmd_postfix": "",
     "delete_cmd_prefix": "del ",
     "library": "var_list.py",
     "varRefreshCmd": "print(var_dic_list())"
    },
    "r": {
     "delete_cmd_postfix": ") ",
     "delete_cmd_prefix": "rm(",
     "library": "var_list.r",
     "varRefreshCmd": "cat(var_dic_list()) "
    }
   },
   "types_to_exclude": [
    "module",
    "function",
    "builtin_function_or_method",
    "instance",
    "_Feature"
   ],
   "window_display": false
  }
 },
 "nbformat": 4,
 "nbformat_minor": 4
}

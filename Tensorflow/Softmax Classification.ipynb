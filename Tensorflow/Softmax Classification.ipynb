{
 "cells": [
  {
   "cell_type": "code",
   "execution_count": 3,
   "metadata": {},
   "outputs": [],
   "source": [
    "import tensorflow as tf"
   ]
  },
  {
   "cell_type": "code",
   "execution_count": 4,
   "metadata": {},
   "outputs": [],
   "source": [
    "x_data = [[1, 2, 1, 1], [2, 1, 3, 2], [3, 1, 3, 4], [4, 1, 5, 5],\n",
    "          [1, 7, 5, 5], [1, 2, 5, 6], [1, 6, 6, 6], [1, 7, 7, 7]]\n",
    "y_data = [[0, 0, 1], [0, 0, 1], [0, 0, 1], [0, 1, 0],\n",
    "          [0, 1, 0], [0, 1, 0], [1, 0, 0], [1, 0, 0]]"
   ]
  },
  {
   "cell_type": "code",
   "execution_count": 5,
   "metadata": {},
   "outputs": [],
   "source": [
    "x = tf.placeholder(tf.float32, [None, 4])\n",
    "y = tf.placeholder(tf.float32, [None, 3])\n",
    "nb_classes = 3\n",
    "\n",
    "w = tf.Variable(tf.random_normal([4, nb_classes]), name='weight')\n",
    "b = tf.Variable(tf.random_normal([nb_classes]), name='bias')"
   ]
  },
  {
   "cell_type": "code",
   "execution_count": 8,
   "metadata": {},
   "outputs": [],
   "source": [
    "hypothesis = tf.nn.softmax(tf.matmul(x, w) + b)"
   ]
  },
  {
   "cell_type": "code",
   "execution_count": 17,
   "metadata": {},
   "outputs": [],
   "source": [
    "cost = tf.reduce_mean(-tf.reduce_sum(y * tf.log(hypothesis), axis = 1))\n",
    "train = tf.train.GradientDescentOptimizer(learning_rate = 0.5).minimize(cost)"
   ]
  },
  {
   "cell_type": "code",
   "execution_count": 21,
   "metadata": {},
   "outputs": [
    {
     "name": "stdout",
     "output_type": "stream",
     "text": [
      "0 6.026829\n",
      "20 5.6921716\n",
      "40 4.2095747\n",
      "60 3.851689\n",
      "80 2.8433537\n",
      "100 2.262959\n",
      "120 1.5461278\n",
      "140 1.6926833\n",
      "160 4.3975677\n",
      "180 2.4559455\n",
      "200 0.90620846\n",
      "220 5.007102\n",
      "240 4.995214\n",
      "260 4.3657374\n",
      "280 5.4225416\n",
      "300 5.2909036\n",
      "320 5.594092\n",
      "340 1.6712475\n",
      "360 0.5763125\n",
      "380 1.2595942\n",
      "400 1.5392123\n",
      "420 0.5586282\n",
      "440 2.928147\n",
      "460 2.1680157\n",
      "480 2.5076985\n",
      "500 0.7585139\n",
      "520 0.32154074\n",
      "540 1.7468293\n",
      "560 0.24600837\n",
      "580 0.76357543\n",
      "600 1.1154565\n",
      "620 0.23957725\n",
      "640 1.988886\n",
      "660 0.679237\n",
      "680 3.5523498\n",
      "700 0.38359365\n",
      "720 2.4379487\n",
      "740 1.9591755\n",
      "760 3.3173227\n",
      "780 1.2512951\n",
      "800 2.1094394\n",
      "820 1.4867613\n",
      "840 2.187496\n",
      "860 0.72716576\n",
      "880 0.76150495\n",
      "900 1.224191\n",
      "920 2.5997245\n",
      "940 0.04007563\n",
      "960 0.019617032\n",
      "980 0.015715584\n",
      "1000 0.013844102\n",
      "1020 0.012652669\n",
      "1040 0.011794093\n",
      "1060 0.011138675\n",
      "1080 0.010623403\n",
      "1100 0.01021213\n",
      "1120 0.009881651\n",
      "1140 0.009615758\n",
      "1160 0.00940219\n",
      "1180 0.009231199\n",
      "1200 0.009094564\n",
      "1220 0.008985354\n",
      "1240 0.008897649\n",
      "1260 0.008826617\n",
      "1280 0.00876811\n",
      "1300 0.008719022\n",
      "1320 0.008676883\n",
      "1340 0.008639744\n",
      "1360 0.008606384\n",
      "1380 0.008575642\n",
      "1400 0.008546898\n",
      "1420 0.008519633\n",
      "1440 0.008493483\n",
      "1460 0.008468178\n",
      "1480 0.008443618\n",
      "1500 0.008419602\n",
      "1520 0.008396074\n",
      "1540 0.008372991\n",
      "1560 0.008350269\n",
      "1580 0.008327907\n",
      "1600 0.008305821\n",
      "1620 0.008284038\n",
      "1640 0.008262517\n",
      "1660 0.008241288\n",
      "1680 0.008220276\n",
      "1700 0.008199498\n",
      "1720 0.008178926\n",
      "1740 0.008158558\n",
      "1760 0.008138379\n",
      "1780 0.008118406\n",
      "1800 0.00809861\n",
      "1820 0.008079002\n",
      "1840 0.008059543\n",
      "1860 0.008040244\n",
      "1880 0.008021107\n",
      "1900 0.0080020875\n",
      "1920 0.007983288\n",
      "1940 0.007964562\n",
      "1960 0.007946013\n",
      "1980 0.00792758\n",
      "2000 0.00790925\n"
     ]
    }
   ],
   "source": [
    "with tf.Session() as sess:\n",
    "    sess.run(tf.global_variables_initializer())\n",
    "    \n",
    "    for step in range(2001):\n",
    "        sess.run(train, feed_dict = {x: x_data, y: y_data})\n",
    "        if step % 20 == 0:\n",
    "            print(step, sess.run(cost, feed_dict = {x: x_data, y: y_data}))"
   ]
  },
  {
   "cell_type": "code",
   "execution_count": 25,
   "metadata": {},
   "outputs": [
    {
     "name": "stdout",
     "output_type": "stream",
     "text": [
      "[[1.6013142e-03 2.8427664e-04 9.9811447e-01]\n",
      " [1.1594060e-01 1.5861852e-01 7.2544086e-01]\n",
      " [3.1340595e-02 9.0051842e-01 6.8141088e-02]] [2 2 1]\n"
     ]
    }
   ],
   "source": [
    "with tf.Session() as sess:\n",
    "    sess.run(tf.global_variables_initializer())\n",
    "\n",
    "    result = sess.run(hypothesis, feed_dict={\n",
    "                      x: [[2, 4, 7, 6], [1, 2, 1, 2], [3, 1, 1, 1]]})\n",
    "    print(result, sess.run(tf.arg_max(result, 1)))"
   ]
  }
 ],
 "metadata": {
  "kernelspec": {
   "display_name": "Python 3",
   "language": "python",
   "name": "python3"
  },
  "language_info": {
   "codemirror_mode": {
    "name": "ipython",
    "version": 3
   },
   "file_extension": ".py",
   "mimetype": "text/x-python",
   "name": "python",
   "nbconvert_exporter": "python",
   "pygments_lexer": "ipython3",
   "version": "3.7.6"
  },
  "varInspector": {
   "cols": {
    "lenName": 16,
    "lenType": 16,
    "lenVar": 40
   },
   "kernels_config": {
    "python": {
     "delete_cmd_postfix": "",
     "delete_cmd_prefix": "del ",
     "library": "var_list.py",
     "varRefreshCmd": "print(var_dic_list())"
    },
    "r": {
     "delete_cmd_postfix": ") ",
     "delete_cmd_prefix": "rm(",
     "library": "var_list.r",
     "varRefreshCmd": "cat(var_dic_list()) "
    }
   },
   "types_to_exclude": [
    "module",
    "function",
    "builtin_function_or_method",
    "instance",
    "_Feature"
   ],
   "window_display": false
  }
 },
 "nbformat": 4,
 "nbformat_minor": 4
}
